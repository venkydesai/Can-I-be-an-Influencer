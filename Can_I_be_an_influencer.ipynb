{
 "cells": [
  {
   "cell_type": "code",
   "execution_count": 1,
   "id": "16aee47e",
   "metadata": {
    "_cell_guid": "b1076dfc-b9ad-4769-8c92-a6c4dae69d19",
    "_uuid": "8f2839f25d086af736a60e9eeb907d3b93b6e0e5",
    "execution": {
     "iopub.execute_input": "2023-03-18T17:51:26.063609Z",
     "iopub.status.busy": "2023-03-18T17:51:26.062633Z",
     "iopub.status.idle": "2023-03-18T17:51:27.069962Z",
     "shell.execute_reply": "2023-03-18T17:51:27.068904Z"
    },
    "papermill": {
     "duration": 1.016305,
     "end_time": "2023-03-18T17:51:27.072433",
     "exception": false,
     "start_time": "2023-03-18T17:51:26.056128",
     "status": "completed"
    },
    "tags": []
   },
   "outputs": [
    {
     "name": "stdout",
     "output_type": "stream",
     "text": [
      "/kaggle/input/can-i-be-an-influencer/sample_submission.csv\n",
      "/kaggle/input/can-i-be-an-influencer/test_colors.csv\n",
      "/kaggle/input/can-i-be-an-influencer/test_keywords.csv\n",
      "/kaggle/input/can-i-be-an-influencer/train.csv\n",
      "/kaggle/input/can-i-be-an-influencer/train_colors.csv\n",
      "/kaggle/input/can-i-be-an-influencer/test.csv\n",
      "/kaggle/input/can-i-be-an-influencer/train_keywords.csv\n"
     ]
    }
   ],
   "source": [
    "# This Python 3 environment comes with many helpful analytics libraries installed\n",
    "# It is defined by the kaggle/python Docker image: https://github.com/kaggle/docker-python\n",
    "# For example, here's several helpful packages to load\n",
    "\n",
    "import numpy as np # linear algebra\n",
    "import pandas as pd # data processing, CSV file I/O (e.g. pd.read_csv)\n",
    "\n",
    "# Input data files are available in the read-only \"../input/\" directory\n",
    "# For example, running this (by clicking run or pressing Shift+Enter) will list all files under the input directory\n",
    "\n",
    "import os\n",
    "for dirname, _, filenames in os.walk('/kaggle/input'):\n",
    "    for filename in filenames:\n",
    "        print(os.path.join(dirname, filename))\n",
    "    \n",
    "import seaborn as sns\n",
    "from scipy import stats\n",
    "\n",
    "\n",
    "# You can write up to 20GB to the current directory (/kaggle/working/) that gets preserved as output when you create a version using \"Save & Run All\" \n",
    "# You can also write temporary files to /kaggle/temp/, but they won't be saved outside of the current session"
   ]
  },
  {
   "cell_type": "code",
   "execution_count": 2,
   "id": "4edf3385",
   "metadata": {
    "execution": {
     "iopub.execute_input": "2023-03-18T17:51:27.081339Z",
     "iopub.status.busy": "2023-03-18T17:51:27.081011Z",
     "iopub.status.idle": "2023-03-18T17:51:29.632244Z",
     "shell.execute_reply": "2023-03-18T17:51:29.631253Z"
    },
    "papermill": {
     "duration": 2.55831,
     "end_time": "2023-03-18T17:51:29.634693",
     "exception": false,
     "start_time": "2023-03-18T17:51:27.076383",
     "status": "completed"
    },
    "tags": []
   },
   "outputs": [],
   "source": [
    "df = pd.read_csv(\"/kaggle/input/can-i-be-an-influencer/train.csv\")\n",
    "test_df = pd.read_csv(\"/kaggle/input/can-i-be-an-influencer/test.csv\")\n",
    "sub = pd.read_csv(\"/kaggle/input/can-i-be-an-influencer/sample_submission.csv\")\n",
    "\n",
    "df_colors = pd.read_csv(\"/kaggle/input/can-i-be-an-influencer/train_colors.csv\")\n",
    "df_keywords = pd.read_csv(\"/kaggle/input/can-i-be-an-influencer/train_keywords.csv\")\n",
    "\n",
    "dft_colors = pd.read_csv(\"/kaggle/input/can-i-be-an-influencer/test_colors.csv\")\n",
    "dft_keywords = pd.read_csv(\"/kaggle/input/can-i-be-an-influencer/test_keywords.csv\")"
   ]
  },
  {
   "cell_type": "code",
   "execution_count": 3,
   "id": "0939ae51",
   "metadata": {
    "execution": {
     "iopub.execute_input": "2023-03-18T17:51:29.643697Z",
     "iopub.status.busy": "2023-03-18T17:51:29.643328Z",
     "iopub.status.idle": "2023-03-18T17:51:29.664221Z",
     "shell.execute_reply": "2023-03-18T17:51:29.663175Z"
    },
    "papermill": {
     "duration": 0.027872,
     "end_time": "2023-03-18T17:51:29.666455",
     "exception": false,
     "start_time": "2023-03-18T17:51:29.638583",
     "status": "completed"
    },
    "tags": []
   },
   "outputs": [],
   "source": [
    "obs_day_mapper = {\n",
    "'Friday':5, 'Tuesday':2, 'Sunday':0, 'Monday':1, 'Wednesday':3, 'Thursday':4,\n",
    "       'Saturday':6\n",
    "}\n",
    "\n",
    "df['obs_day'] = df['obs_day'].map(obs_day_mapper)\n",
    "test_df['obs_day'] = test_df['obs_day'].map(obs_day_mapper)"
   ]
  },
  {
   "cell_type": "code",
   "execution_count": 4,
   "id": "0fded9a3",
   "metadata": {
    "execution": {
     "iopub.execute_input": "2023-03-18T17:51:29.675645Z",
     "iopub.status.busy": "2023-03-18T17:51:29.675230Z",
     "iopub.status.idle": "2023-03-18T17:51:29.874675Z",
     "shell.execute_reply": "2023-03-18T17:51:29.873553Z"
    },
    "papermill": {
     "duration": 0.206708,
     "end_time": "2023-03-18T17:51:29.876941",
     "exception": false,
     "start_time": "2023-03-18T17:51:29.670233",
     "status": "completed"
    },
    "tags": []
   },
   "outputs": [],
   "source": [
    "df['colors_mean_sore'] = df['image_id'].map(df_colors.groupby('image_id')['color_score'].mean())\n",
    "df['colors_freq'] = df['image_id'].map(df_colors['image_id'].value_counts())\n",
    "df['keywords_freq'] = df['image_id'].map(df_keywords['image_id'].value_counts())\n",
    "\n",
    "cat_fts = [c for c in df.select_dtypes('object').columns.tolist() if c not in [\"image_id\", \"stats_downloads\", 'is_train', 'description1', 'description2']]\n",
    "df[cat_fts] = df[cat_fts].apply(lambda x: pd.factorize(x)[0])\n",
    "\n",
    "# ------------\n",
    "\n",
    "test_df['colors_mean_sore'] = test_df['image_id'].map(dft_colors.groupby('image_id')['color_score'].mean())\n",
    "test_df['colors_freq'] = test_df['image_id'].map(dft_colors['image_id'].value_counts())\n",
    "test_df['keywords_freq'] = test_df['image_id'].map(dft_keywords['image_id'].value_counts())\n",
    "\n",
    "cat_fts = [c for c in test_df.select_dtypes('object').columns.tolist() if c not in [\"image_id\", \"stats_downloads\", 'is_train', 'description1', 'description2']]\n",
    "test_df[cat_fts] = test_df[cat_fts].apply(lambda x: pd.factorize(x)[0])"
   ]
  },
  {
   "cell_type": "code",
   "execution_count": 5,
   "id": "c0ee17ea",
   "metadata": {
    "execution": {
     "iopub.execute_input": "2023-03-18T17:51:29.887104Z",
     "iopub.status.busy": "2023-03-18T17:51:29.885686Z",
     "iopub.status.idle": "2023-03-18T17:51:29.898802Z",
     "shell.execute_reply": "2023-03-18T17:51:29.897892Z"
    },
    "papermill": {
     "duration": 0.020203,
     "end_time": "2023-03-18T17:51:29.900926",
     "exception": false,
     "start_time": "2023-03-18T17:51:29.880723",
     "status": "completed"
    },
    "tags": []
   },
   "outputs": [],
   "source": [
    "numerics = ['int16', 'int32', 'int64', 'float16', 'float32', 'float64']\n",
    "df = df.select_dtypes(include=numerics)\n",
    "\n",
    "# remove useless cols\n",
    "df.drop([\"latitude\", \"longitude\"], axis=1, inplace=True)\n",
    "test_df.drop([\"latitude\", \"longitude\"], axis=1, inplace=True)"
   ]
  },
  {
   "cell_type": "code",
   "execution_count": 6,
   "id": "22e7999a",
   "metadata": {
    "execution": {
     "iopub.execute_input": "2023-03-18T17:51:29.910959Z",
     "iopub.status.busy": "2023-03-18T17:51:29.909251Z",
     "iopub.status.idle": "2023-03-18T17:51:29.916639Z",
     "shell.execute_reply": "2023-03-18T17:51:29.915729Z"
    },
    "papermill": {
     "duration": 0.014043,
     "end_time": "2023-03-18T17:51:29.918757",
     "exception": false,
     "start_time": "2023-03-18T17:51:29.904714",
     "status": "completed"
    },
    "tags": []
   },
   "outputs": [],
   "source": [
    "cols = df.loc[:, ~df.columns.isin([\"image_category\"])].columns"
   ]
  },
  {
   "cell_type": "code",
   "execution_count": 7,
   "id": "f56a8402",
   "metadata": {
    "execution": {
     "iopub.execute_input": "2023-03-18T17:51:29.928294Z",
     "iopub.status.busy": "2023-03-18T17:51:29.927932Z",
     "iopub.status.idle": "2023-03-18T17:51:29.935263Z",
     "shell.execute_reply": "2023-03-18T17:51:29.933981Z"
    },
    "papermill": {
     "duration": 0.014715,
     "end_time": "2023-03-18T17:51:29.937180",
     "exception": false,
     "start_time": "2023-03-18T17:51:29.922465",
     "status": "completed"
    },
    "tags": []
   },
   "outputs": [],
   "source": [
    "cols = df.loc[:, df.columns != 'stats_downloads'].columns\n",
    "test_df = test_df[cols]"
   ]
  },
  {
   "cell_type": "code",
   "execution_count": 8,
   "id": "12375683",
   "metadata": {
    "execution": {
     "iopub.execute_input": "2023-03-18T17:51:29.946673Z",
     "iopub.status.busy": "2023-03-18T17:51:29.945729Z",
     "iopub.status.idle": "2023-03-18T17:51:29.960126Z",
     "shell.execute_reply": "2023-03-18T17:51:29.959408Z"
    },
    "papermill": {
     "duration": 0.021119,
     "end_time": "2023-03-18T17:51:29.962200",
     "exception": false,
     "start_time": "2023-03-18T17:51:29.941081",
     "status": "completed"
    },
    "tags": []
   },
   "outputs": [],
   "source": [
    "df = df.fillna(df.mean())\n",
    "test_df = test_df.fillna(test_df.mean())"
   ]
  },
  {
   "cell_type": "code",
   "execution_count": 9,
   "id": "6cf31004",
   "metadata": {
    "execution": {
     "iopub.execute_input": "2023-03-18T17:51:29.971409Z",
     "iopub.status.busy": "2023-03-18T17:51:29.970560Z",
     "iopub.status.idle": "2023-03-18T17:51:29.975708Z",
     "shell.execute_reply": "2023-03-18T17:51:29.975032Z"
    },
    "papermill": {
     "duration": 0.011483,
     "end_time": "2023-03-18T17:51:29.977443",
     "exception": false,
     "start_time": "2023-03-18T17:51:29.965960",
     "status": "completed"
    },
    "tags": []
   },
   "outputs": [],
   "source": [
    "X_train = df.loc[:, df.columns != 'stats_downloads']\n",
    "y_train = df[\"stats_downloads\"]"
   ]
  },
  {
   "cell_type": "code",
   "execution_count": 10,
   "id": "f81e8454",
   "metadata": {
    "execution": {
     "iopub.execute_input": "2023-03-18T17:51:29.987193Z",
     "iopub.status.busy": "2023-03-18T17:51:29.986151Z",
     "iopub.status.idle": "2023-03-18T17:51:30.128087Z",
     "shell.execute_reply": "2023-03-18T17:51:30.127098Z"
    },
    "papermill": {
     "duration": 0.149144,
     "end_time": "2023-03-18T17:51:30.130495",
     "exception": false,
     "start_time": "2023-03-18T17:51:29.981351",
     "status": "completed"
    },
    "tags": []
   },
   "outputs": [],
   "source": [
    "from sklearn.preprocessing import StandardScaler\n",
    "\n",
    "transformer = StandardScaler()\n",
    "X_train = transformer.fit_transform(X_train)\n",
    "X_test = transformer.transform(test_df)"
   ]
  },
  {
   "cell_type": "code",
   "execution_count": 11,
   "id": "36f928ec",
   "metadata": {
    "execution": {
     "iopub.execute_input": "2023-03-18T17:51:30.139282Z",
     "iopub.status.busy": "2023-03-18T17:51:30.138962Z",
     "iopub.status.idle": "2023-03-18T17:51:33.550369Z",
     "shell.execute_reply": "2023-03-18T17:51:33.548808Z"
    },
    "papermill": {
     "duration": 3.419032,
     "end_time": "2023-03-18T17:51:33.553308",
     "exception": false,
     "start_time": "2023-03-18T17:51:30.134276",
     "status": "completed"
    },
    "tags": []
   },
   "outputs": [],
   "source": [
    "from sklearn.ensemble import RandomForestRegressor\n",
    "regr = RandomForestRegressor(max_depth = 100, oob_score = True, n_jobs = -1,random_state =50, max_features = \"auto\", min_samples_leaf = 30)\n",
    "\n",
    "# from sklearn.linear_model import Ridge\n",
    "# regr = Ridge()\n",
    "\n",
    "regr.fit(X_train, y_train)\n",
    "y_pred = regr.predict(X_train)"
   ]
  },
  {
   "cell_type": "code",
   "execution_count": 12,
   "id": "90b8c87a",
   "metadata": {
    "execution": {
     "iopub.execute_input": "2023-03-18T17:51:33.561949Z",
     "iopub.status.busy": "2023-03-18T17:51:33.561609Z",
     "iopub.status.idle": "2023-03-18T17:51:33.570143Z",
     "shell.execute_reply": "2023-03-18T17:51:33.568932Z"
    },
    "papermill": {
     "duration": 0.015142,
     "end_time": "2023-03-18T17:51:33.572356",
     "exception": false,
     "start_time": "2023-03-18T17:51:33.557214",
     "status": "completed"
    },
    "tags": []
   },
   "outputs": [
    {
     "data": {
      "text/plain": [
       "33091.31929510119"
      ]
     },
     "execution_count": 12,
     "metadata": {},
     "output_type": "execute_result"
    }
   ],
   "source": [
    "from sklearn.metrics import mean_squared_error\n",
    "mean_squared_error(y_train, y_pred, squared=False)"
   ]
  },
  {
   "cell_type": "code",
   "execution_count": 13,
   "id": "96f36253",
   "metadata": {
    "execution": {
     "iopub.execute_input": "2023-03-18T17:51:33.581730Z",
     "iopub.status.busy": "2023-03-18T17:51:33.581400Z",
     "iopub.status.idle": "2023-03-18T17:51:33.705529Z",
     "shell.execute_reply": "2023-03-18T17:51:33.704242Z"
    },
    "papermill": {
     "duration": 0.132115,
     "end_time": "2023-03-18T17:51:33.708630",
     "exception": false,
     "start_time": "2023-03-18T17:51:33.576515",
     "status": "completed"
    },
    "tags": []
   },
   "outputs": [],
   "source": [
    "res = regr.predict(X_test)\n",
    "sub[\"stats_downloads\"] = res\n",
    "sub.to_csv(\"submission.csv\", index=False)"
   ]
  },
  {
   "cell_type": "code",
   "execution_count": 14,
   "id": "a657d94e",
   "metadata": {
    "execution": {
     "iopub.execute_input": "2023-03-18T17:51:33.718186Z",
     "iopub.status.busy": "2023-03-18T17:51:33.717577Z",
     "iopub.status.idle": "2023-03-18T17:51:33.724687Z",
     "shell.execute_reply": "2023-03-18T17:51:33.723437Z"
    },
    "papermill": {
     "duration": 0.01428,
     "end_time": "2023-03-18T17:51:33.726864",
     "exception": false,
     "start_time": "2023-03-18T17:51:33.712584",
     "status": "completed"
    },
    "tags": []
   },
   "outputs": [
    {
     "name": "stdout",
     "output_type": "stream",
     "text": [
      "1194.2077291716885 60851.284221167836\n"
     ]
    }
   ],
   "source": [
    "print(min(res), max(res))"
   ]
  }
 ],
 "metadata": {
  "kernelspec": {
   "display_name": "Python 3",
   "language": "python",
   "name": "python3"
  },
  "language_info": {
   "codemirror_mode": {
    "name": "ipython",
    "version": 3
   },
   "file_extension": ".py",
   "mimetype": "text/x-python",
   "name": "python",
   "nbconvert_exporter": "python",
   "pygments_lexer": "ipython3",
   "version": "3.7.12"
  },
  "papermill": {
   "default_parameters": {},
   "duration": 16.603058,
   "end_time": "2023-03-18T17:51:34.450584",
   "environment_variables": {},
   "exception": null,
   "input_path": "__notebook__.ipynb",
   "output_path": "__notebook__.ipynb",
   "parameters": {},
   "start_time": "2023-03-18T17:51:17.847526",
   "version": "2.4.0"
  }
 },
 "nbformat": 4,
 "nbformat_minor": 5
}
